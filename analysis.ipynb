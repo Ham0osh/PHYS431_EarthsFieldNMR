{
 "cells": [
  {
   "cell_type": "code",
   "execution_count": null,
   "metadata": {},
   "outputs": [],
   "source": []
  },
  {
   "cell_type": "code",
   "execution_count": 16,
   "metadata": {},
   "outputs": [],
   "source": [
    "import numpy as np\n",
    "import plotly.graph_objects as go\n",
    "import plotly.io as pio\n",
    "from Mink import science_template, full_return, local_max\n",
    "from scipy.optimize import curve_fit\n",
    "from glob import glob"
   ]
  },
  {
   "cell_type": "code",
   "execution_count": 27,
   "metadata": {},
   "outputs": [],
   "source": [
    "pio.templates[\"science\"] = science_template\n",
    "pio.templates.default = \"science\"\n",
    "my_curve_fit = full_return(curve_fit)"
   ]
  },
  {
   "cell_type": "code",
   "execution_count": 28,
   "metadata": {},
   "outputs": [],
   "source": [
    "def M(t, M0, T1):\n",
    "    return M0*(1-np.exp(-t/T1))"
   ]
  },
  {
   "cell_type": "code",
   "execution_count": 68,
   "metadata": {},
   "outputs": [
    {
     "data": {
      "text/plain": [
       "0.01264911064067351"
      ]
     },
     "execution_count": 68,
     "metadata": {},
     "output_type": "execute_result"
    }
   ],
   "source": [
    "np.std([0.27, 0.29, 0.27, 0.25, 0.27])"
   ]
  },
  {
   "cell_type": "code",
   "execution_count": 51,
   "metadata": {},
   "outputs": [
    {
     "name": "stdout",
     "output_type": "stream",
     "text": [
      "['data\\\\SDS00010.csv', 'data\\\\SDS00011.csv', 'data\\\\SDS00012.csv', 'data\\\\SDS00013.csv', 'data\\\\SDS00014.csv', 'data\\\\SDS00015.csv', 'data\\\\SDS00016.csv', 'data\\\\SDS00017.csv']\n",
      "[1.052, 1.59, 1.22, 0.844, 0.724, 0.744, 0.2, 0.172]\n",
      "[1.24, 2.48, 1.9, 1.28, 1.12, 1.16, 0.3, 0.264]\n"
     ]
    }
   ],
   "source": [
    "filenames = glob(\"data/SDS*\")\n",
    "print(filenames)\n",
    "\n",
    "\n",
    "CH1_A = []\n",
    "CH2_A = []\n",
    "period = 1/2020\n",
    "\n",
    "t_offset = -4.34e-2\n",
    "# fig = go.Figure()\n",
    "for filename in filenames:\n",
    "    t, CH1, CH2 = np.genfromtxt(filename, skip_header=12, unpack=True, delimiter=',')\n",
    "    time_step = abs(t[1] - t[0])\n",
    "    rng = int(period/(2*time_step))\n",
    "\n",
    "    i = np.where(t == t_offset)[0][0]\n",
    "    \n",
    "    CH2_A.append(CH2[i])\n",
    "    CH1_A.append(np.max(CH1[i-rng:i+rng]))\n",
    "    # fig.add_trace(go.Scatter(x = t[i-rng:i+rng], y = CH1[i-rng:i+rng], mode=\"markers\"))\n",
    "\n",
    "print(CH2_A)\n",
    "print(CH1_A)\n",
    "# fig.show()\n"
   ]
  },
  {
   "cell_type": "code",
   "execution_count": 75,
   "metadata": {},
   "outputs": [
    {
     "name": "stdout",
     "output_type": "stream",
     "text": [
      "function = M\n",
      "fit results:\n",
      "1.8708421474733512 +/- 0.04508214884246098\n",
      "7.147574238431177 +/- 0.26628701476186306\n",
      "reduced chisq = 9.863748049477016\n"
     ]
    },
    {
     "data": {
      "application/vnd.plotly.v1+json": {
       "config": {
        "plotlyServerURL": "https://plot.ly"
       },
       "data": [
        {
         "error_y": {
          "array": [
           0.02,
           0.13,
           0.12,
           0.01,
           0.04,
           0.01,
           0.012
          ]
         },
         "mode": "markers",
         "type": "scatter",
         "x": [
          13,
          10,
          5,
          4,
          3,
          2,
          1,
          0.5
         ],
         "y": [
          1.59,
          1.16,
          0.91,
          0.77,
          0.51,
          0.5,
          0.27
         ]
        },
        {
         "mode": "lines",
         "type": "scatter",
         "x": [
          0,
          0.13131313131313133,
          0.26262626262626265,
          0.393939393939394,
          0.5252525252525253,
          0.6565656565656566,
          0.787878787878788,
          0.9191919191919193,
          1.0505050505050506,
          1.1818181818181819,
          1.3131313131313131,
          1.4444444444444446,
          1.575757575757576,
          1.7070707070707072,
          1.8383838383838387,
          1.96969696969697,
          2.101010101010101,
          2.2323232323232327,
          2.3636363636363638,
          2.4949494949494953,
          2.6262626262626263,
          2.757575757575758,
          2.8888888888888893,
          3.0202020202020203,
          3.151515151515152,
          3.2828282828282833,
          3.4141414141414144,
          3.545454545454546,
          3.6767676767676774,
          3.8080808080808084,
          3.93939393939394,
          4.070707070707071,
          4.202020202020202,
          4.333333333333334,
          4.464646464646465,
          4.595959595959596,
          4.7272727272727275,
          4.858585858585859,
          4.9898989898989905,
          5.121212121212122,
          5.252525252525253,
          5.383838383838384,
          5.515151515151516,
          5.646464646464647,
          5.777777777777779,
          5.90909090909091,
          6.040404040404041,
          6.171717171717172,
          6.303030303030304,
          6.434343434343435,
          6.565656565656567,
          6.696969696969697,
          6.828282828282829,
          6.95959595959596,
          7.090909090909092,
          7.222222222222223,
          7.353535353535355,
          7.484848484848485,
          7.616161616161617,
          7.747474747474748,
          7.87878787878788,
          8.01010101010101,
          8.141414141414142,
          8.272727272727273,
          8.404040404040405,
          8.535353535353536,
          8.666666666666668,
          8.7979797979798,
          8.92929292929293,
          9.060606060606062,
          9.191919191919192,
          9.323232323232324,
          9.454545454545455,
          9.585858585858587,
          9.717171717171718,
          9.84848484848485,
          9.979797979797981,
          10.111111111111112,
          10.242424242424244,
          10.373737373737375,
          10.505050505050505,
          10.636363636363637,
          10.767676767676768,
          10.8989898989899,
          11.030303030303031,
          11.161616161616163,
          11.292929292929294,
          11.424242424242426,
          11.555555555555557,
          11.686868686868689,
          11.81818181818182,
          11.94949494949495,
          12.080808080808081,
          12.212121212121213,
          12.343434343434344,
          12.474747474747476,
          12.606060606060607,
          12.737373737373739,
          12.86868686868687,
          13
         ],
         "y": [
          0,
          0.03405676327461877,
          0.06749355808941307,
          0.10032167033459177,
          0.13255218045230258,
          0.1641959671766039,
          0.19526371120535357,
          0.22576589880525516,
          0.25571282535127765,
          0.2851145988016431,
          0.3139811431095577,
          0.3423222015728336,
          0.37014734012253514,
          0.3974659505517585,
          0.4242872536856358,
          0.4506203024936305,
          0.47647398514517847,
          0.5018570280097033,
          0.5267779986020192,
          0.5512453084741179,
          0.5752672160543095,
          0.5988518294346841,
          0.6220071091078276,
          0.6447408706537198,
          0.6670607873777195,
          0.6889743929005282,
          0.7104890837010065,
          0.7316121216126997,
          0.752350636274919,
          0.7727116275392011,
          0.7927019678319616,
          0.8123284044741393,
          0.8315975619586129,
          0.8505159441861595,
          0.8690899366607102,
          0.887325808644644,
          0.9052297152748459,
          0.9228076996402435,
          0.9400656948215261,
          0.9570095258937327,
          0.9736449118923822,
          0.9899774677438149,
          1.006012706160395,
          1.0217560395012086,
          1.0372127815988934,
          1.0523881495532126,
          1.0672872654919763,
          1.0819151582999098,
          1.0962767653160463,
          1.1103769340002252,
          1.124220423569249,
          1.137811906603256,
          1.1511559706228556,
          1.1642571196375464,
          1.1771197756659524,
          1.1897482802283814,
          1.2021468958122152,
          1.2143198073106234,
          1.2262711234350852,
          1.2380048781021995,
          1.2495250317952495,
          1.2608354729009816,
          1.2719400190220456,
          1.282842418265551,
          1.2935463505081588,
          1.304055428638149,
          1.3143731997748738,
          1.3245031464660137,
          1.3344486878630404,
          1.3442131808752775,
          1.353799921302956,
          1.3632121449496428,
          1.372453028714418,
          1.3815256916641718,
          1.390433196086378,
          1.3991785485227073,
          1.407764700783822,
          1.4161945509456968,
          1.4244709443278043,
          1.4325966744534944,
          1.440574483992887,
          1.4484070656886048,
          1.4560970632646522,
          1.4636470723187478,
          1.4710596411984151,
          1.4783372718611234,
          1.4854824207187718,
          1.4924974994667983,
          1.4993848758981985,
          1.5061468747027238,
          1.5127857782515326,
          1.5193038273675554,
          1.525703222081839,
          1.531986122376121,
          1.5381546489118845,
          1.5442108837461463,
          1.5501568710342082,
          1.555994617719621,
          1.5617260942115863,
          1.5673532350500254
         ]
        }
       ],
       "layout": {
        "template": {
         "data": {
          "scatter": [
           {
            "hovertemplate": "x = %{x}<br>y = %{y}",
            "line": {
             "color": "rgb(20,20,20)"
            },
            "marker": {
             "color": "rgb(20,20,20)"
            },
            "type": "scatter"
           },
           {
            "hovertemplate": "x = %{x}<br>y = %{y}",
            "line": {
             "color": "rgb(169,2,235)"
            },
            "marker": {
             "color": "rgb(169,2,235)"
            },
            "type": "scatter"
           },
           {
            "hovertemplate": "x = %{x}<br>y = %{y}",
            "line": {
             "color": "rgb(6,96,214)"
            },
            "marker": {
             "color": "rgb(6,96,214)"
            },
            "type": "scatter"
           },
           {
            "hovertemplate": "x = %{x}<br>y = %{y}",
            "line": {
             "color": "rgb(20,156,5)"
            },
            "marker": {
             "color": "rgb(20,156,5)"
            },
            "type": "scatter"
           },
           {
            "hovertemplate": "x = %{x}<br>y = %{y}",
            "line": {
             "color": "rgb(242,135,5)"
            },
            "marker": {
             "color": "rgb(242,135,5)"
            },
            "type": "scatter"
           },
           {
            "hovertemplate": "x = %{x}<br>y = %{y}",
            "line": {
             "color": "rgb(58,184,189)"
            },
            "marker": {
             "color": "rgb(58,184,189)"
            },
            "type": "scatter"
           },
           {
            "hovertemplate": "x = %{x}<br>y = %{y}",
            "line": {
             "color": "rgb(211,148,242)"
            },
            "marker": {
             "color": "rgb(211,148,242)"
            },
            "type": "scatter"
           }
          ]
         },
         "layout": {
          "annotationdefaults": {
           "arrowhead": 0,
           "arrowwidth": 1
          },
          "autotypenumbers": "strict",
          "coloraxis": {
           "colorbar": {
            "outlinewidth": 1,
            "tickcolor": "rgb(36,36,36)",
            "ticks": "outside"
           }
          },
          "colorscale": {
           "diverging": [
            [
             0,
             "rgb(103,0,31)"
            ],
            [
             0.1,
             "rgb(178,24,43)"
            ],
            [
             0.2,
             "rgb(214,96,77)"
            ],
            [
             0.3,
             "rgb(244,165,130)"
            ],
            [
             0.4,
             "rgb(253,219,199)"
            ],
            [
             0.5,
             "rgb(247,247,247)"
            ],
            [
             0.6,
             "rgb(209,229,240)"
            ],
            [
             0.7,
             "rgb(146,197,222)"
            ],
            [
             0.8,
             "rgb(67,147,195)"
            ],
            [
             0.9,
             "rgb(33,102,172)"
            ],
            [
             1,
             "rgb(5,48,97)"
            ]
           ],
           "sequential": [
            [
             0,
             "#440154"
            ],
            [
             0.1111111111111111,
             "#482878"
            ],
            [
             0.2222222222222222,
             "#3e4989"
            ],
            [
             0.3333333333333333,
             "#31688e"
            ],
            [
             0.4444444444444444,
             "#26828e"
            ],
            [
             0.5555555555555556,
             "#1f9e89"
            ],
            [
             0.6666666666666666,
             "#35b779"
            ],
            [
             0.7777777777777778,
             "#6ece58"
            ],
            [
             0.8888888888888888,
             "#b5de2b"
            ],
            [
             1,
             "#fde725"
            ]
           ],
           "sequentialminus": [
            [
             0,
             "#440154"
            ],
            [
             0.1111111111111111,
             "#482878"
            ],
            [
             0.2222222222222222,
             "#3e4989"
            ],
            [
             0.3333333333333333,
             "#31688e"
            ],
            [
             0.4444444444444444,
             "#26828e"
            ],
            [
             0.5555555555555556,
             "#1f9e89"
            ],
            [
             0.6666666666666666,
             "#35b779"
            ],
            [
             0.7777777777777778,
             "#6ece58"
            ],
            [
             0.8888888888888888,
             "#b5de2b"
            ],
            [
             1,
             "#fde725"
            ]
           ]
          },
          "colorway": [
           "#1F77B4",
           "#FF7F0E",
           "#2CA02C",
           "#D62728",
           "#9467BD",
           "#8C564B",
           "#E377C2",
           "#7F7F7F",
           "#BCBD22",
           "#17BECF"
          ],
          "font": {
           "color": "rgb(36,36,36)"
          },
          "geo": {
           "bgcolor": "white",
           "lakecolor": "white",
           "landcolor": "white",
           "showlakes": true,
           "showland": true,
           "subunitcolor": "white"
          },
          "hoverlabel": {
           "align": "left"
          },
          "hovermode": "closest",
          "mapbox": {
           "style": "light"
          },
          "margin": {
           "autoexpand": true,
           "b": 30,
           "l": 30,
           "r": 30,
           "t": 30
          },
          "paper_bgcolor": "white",
          "plot_bgcolor": "white",
          "polar": {
           "angularaxis": {
            "gridcolor": "rgb(232,232,232)",
            "linecolor": "rgb(36,36,36)",
            "showgrid": false,
            "showline": true,
            "ticks": "outside"
           },
           "bgcolor": "white",
           "radialaxis": {
            "gridcolor": "rgb(232,232,232)",
            "linecolor": "rgb(36,36,36)",
            "showgrid": false,
            "showline": true,
            "ticks": "outside"
           }
          },
          "scene": {
           "xaxis": {
            "backgroundcolor": "white",
            "gridcolor": "rgb(232,232,232)",
            "gridwidth": 2,
            "linecolor": "rgb(36,36,36)",
            "showbackground": true,
            "showgrid": false,
            "showline": true,
            "ticks": "outside",
            "zeroline": false,
            "zerolinecolor": "rgb(36,36,36)"
           },
           "yaxis": {
            "backgroundcolor": "white",
            "gridcolor": "rgb(232,232,232)",
            "gridwidth": 2,
            "linecolor": "rgb(36,36,36)",
            "showbackground": true,
            "showgrid": false,
            "showline": true,
            "ticks": "outside",
            "zeroline": false,
            "zerolinecolor": "rgb(36,36,36)"
           },
           "zaxis": {
            "backgroundcolor": "white",
            "gridcolor": "rgb(232,232,232)",
            "gridwidth": 2,
            "linecolor": "rgb(36,36,36)",
            "showbackground": true,
            "showgrid": false,
            "showline": true,
            "ticks": "outside",
            "zeroline": false,
            "zerolinecolor": "rgb(36,36,36)"
           }
          },
          "shapedefaults": {
           "fillcolor": "black",
           "line": {
            "width": 0
           },
           "opacity": 0.3
          },
          "ternary": {
           "aaxis": {
            "gridcolor": "rgb(232,232,232)",
            "linecolor": "rgb(36,36,36)",
            "showgrid": false,
            "showline": true,
            "ticks": "outside"
           },
           "baxis": {
            "gridcolor": "rgb(232,232,232)",
            "linecolor": "rgb(36,36,36)",
            "showgrid": false,
            "showline": true,
            "ticks": "outside"
           },
           "bgcolor": "white",
           "caxis": {
            "gridcolor": "rgb(232,232,232)",
            "linecolor": "rgb(36,36,36)",
            "showgrid": false,
            "showline": true,
            "ticks": "outside"
           }
          },
          "title": {
           "x": 0.05
          },
          "xaxis": {
           "automargin": true,
           "gridcolor": "rgb(232,232,232)",
           "linecolor": "rgb(36,36,36)",
           "showgrid": false,
           "showline": true,
           "ticks": "outside",
           "title": {
            "standoff": 15
           },
           "zeroline": false,
           "zerolinecolor": "rgb(36,36,36)"
          },
          "yaxis": {
           "automargin": true,
           "gridcolor": "rgb(232,232,232)",
           "linecolor": "rgb(36,36,36)",
           "showgrid": false,
           "showline": true,
           "ticks": "outside",
           "title": {
            "standoff": 15
           },
           "zeroline": false,
           "zerolinecolor": "rgb(36,36,36)"
          }
         }
        },
        "xaxis": {
         "title": {
          "text": "t_p [s]"
         }
        },
        "yaxis": {
         "title": {
          "text": "V [V]"
         }
        }
       }
      }
     },
     "metadata": {},
     "output_type": "display_data"
    }
   ],
   "source": [
    "t = np.array([13,10,5,4,3,2,1,0.5])\n",
    "V = np.array([1.12,0.92,0.84,0.9,0.76,0.60,0.34,0.12])\n",
    "V_avg = np.array([1.59, 1.16, 0.91, 0.77, 0.51, 0.5, 0.27])\n",
    "V_avg_err = np.array([0.02, 0.13, 0.12, 0.01, 0.04, 0.01, 0.012])\n",
    "dt = np.linspace(0,np.max(t),100)\n",
    "p0 = [1.2, 2.5]\n",
    "\n",
    "ret = my_curve_fit(M, t[:len(V_avg)], V_avg, p0=p0, sigma=V_avg_err, absolute_sigma=True)\n",
    "print(ret)\n",
    "\n",
    "\n",
    "dV = M(dt, *ret.pOpt)\n",
    "\n",
    "fig = go.Figure()\n",
    "fig.add_trace(go.Scatter(x=t, y=V_avg, mode=\"markers\", error_y=dict(array=V_avg_err)))\n",
    "fig.add_trace(go.Scatter(x=dt, y=dV, mode=\"lines\"))\n",
    "fig.update_layout(xaxis_title=\"t_p [s]\", yaxis_title=\"V [V]\")\n",
    "fig.show()\n"
   ]
  },
  {
   "cell_type": "code",
   "execution_count": null,
   "metadata": {},
   "outputs": [],
   "source": []
  }
 ],
 "metadata": {
  "kernelspec": {
   "display_name": "Python 3.10.4 ('mypython3')",
   "language": "python",
   "name": "python3"
  },
  "language_info": {
   "codemirror_mode": {
    "name": "ipython",
    "version": 3
   },
   "file_extension": ".py",
   "mimetype": "text/x-python",
   "name": "python",
   "nbconvert_exporter": "python",
   "pygments_lexer": "ipython3",
   "version": "3.10.4"
  },
  "orig_nbformat": 4,
  "vscode": {
   "interpreter": {
    "hash": "89ccaaa299190316fe6bbfc1d767a283f4963c7990ca1051ffa6de96ddf728f5"
   }
  }
 },
 "nbformat": 4,
 "nbformat_minor": 2
}
